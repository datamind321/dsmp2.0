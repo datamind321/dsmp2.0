{
  "nbformat": 4,
  "nbformat_minor": 0,
  "metadata": {
    "colab": {
      "provenance": []
    },
    "kernelspec": {
      "name": "python3",
      "display_name": "Python 3"
    },
    "language_info": {
      "name": "python"
    }
  },
  "cells": [
    {
      "cell_type": "markdown",
      "source": [
        "# Task : Session 1\n",
        "Solve these questions own your own and try to test yourself what you have learned in the session.\n",
        "\n",
        "Happy Learning!"
      ],
      "metadata": {
        "id": "A05OG15VqOPF"
      }
    },
    {
      "cell_type": "markdown",
      "source": [
        "### Q1 :- Print the given strings as per stated format.\n",
        "\n",
        "**Given strings**:\n",
        "```\n",
        "\"Data\" \"Science\" \"Mentorship\" \"Program\"\n",
        "\"By\" \"CampusX\"\n",
        "```\n",
        "**Output**:\n",
        "```\n",
        "Data-Science-Mentorship-Program-started-By-CampusX\n",
        "```\n",
        "\n",
        "Concept- [Seperator and End]"
      ],
      "metadata": {
        "id": "2doIXf8bqe9_"
      }
    },
    {
      "cell_type": "code",
      "source": [
        "# Write your code here\n",
        "print('Data','Science','MentorShip','Program','started','by','campusx',sep='-')"
      ],
      "metadata": {
        "id": "-em6d3KErDtp",
        "outputId": "aca28831-7ace-4f09-9127-85236e8778d7",
        "colab": {
          "base_uri": "https://localhost:8080/"
        }
      },
      "execution_count": null,
      "outputs": [
        {
          "output_type": "stream",
          "name": "stdout",
          "text": [
            "Data-Science-MentorShip-Program-started-by-campusx\n"
          ]
        }
      ]
    },
    {
      "cell_type": "markdown",
      "source": [
        "### Q2:- Write a program that will convert celsius value to fahrenheit."
      ],
      "metadata": {
        "id": "1KUpN7ZTrC3_"
      }
    },
    {
      "cell_type": "code",
      "source": [
        "# Write your code here\n",
        "print(20+32*9/5)"
      ],
      "metadata": {
        "id": "yxKYhYQiqWfj",
        "outputId": "6a7f72ba-c55d-401e-e127-7067720fbee5",
        "colab": {
          "base_uri": "https://localhost:8080/"
        }
      },
      "execution_count": null,
      "outputs": [
        {
          "output_type": "stream",
          "name": "stdout",
          "text": [
            "77.6\n"
          ]
        }
      ]
    },
    {
      "cell_type": "markdown",
      "source": [
        "### Q3:- Take 2 numbers as input from the user.Write a program to swap the numbers without using any special python syntax."
      ],
      "metadata": {
        "id": "RLrOBBJurLB2"
      }
    },
    {
      "cell_type": "code",
      "source": [
        "# Write your code here\n",
        "a=5\n",
        "b=6\n",
        "\n",
        "temp=a\n",
        "a=b\n",
        "b=temp\n",
        "\n",
        "print(a)\n",
        "print(b)"
      ],
      "metadata": {
        "id": "yPn7if0TrJ4F",
        "outputId": "83d70fdf-de78-45f3-9cc0-4d06b9361306",
        "colab": {
          "base_uri": "https://localhost:8080/"
        }
      },
      "execution_count": null,
      "outputs": [
        {
          "output_type": "stream",
          "name": "stdout",
          "text": [
            "6\n",
            "5\n"
          ]
        }
      ]
    },
    {
      "cell_type": "markdown",
      "source": [
        "### Q4:- Write a program to find the euclidean distance between two coordinates.Take both the coordinates from the user as input."
      ],
      "metadata": {
        "id": "waLCP1bjr7ML"
      }
    },
    {
      "cell_type": "code",
      "source": [
        "# Write your code here\n",
        "\n",
        "cord_1,cord_2 = 3,4   #x1,y1\n",
        "cord_3,cord_4 = 5,6  #x2,y2\n",
        "\n",
        "# eucliduean distance\n",
        "dis =  ((cord_3-cord_1)**2 + (cord_4-cord_2)**2)**0.5\n",
        "\n",
        "print(dis)"
      ],
      "metadata": {
        "id": "Pl1Sv-xnrxnH",
        "outputId": "5c62816e-2629-4561-d0fc-bae34c7fb8b5",
        "colab": {
          "base_uri": "https://localhost:8080/"
        }
      },
      "execution_count": null,
      "outputs": [
        {
          "output_type": "stream",
          "name": "stdout",
          "text": [
            "2.8284271247461903\n"
          ]
        }
      ]
    },
    {
      "cell_type": "markdown",
      "source": [
        "### Q5:- Write a program to find the simple interest when the value of principle,rate of interest and time period is provided by the user.\n"
      ],
      "metadata": {
        "id": "VLrhg-FRsHjR"
      }
    },
    {
      "cell_type": "code",
      "source": [
        "# Write your code here\n",
        "principle = 10000   #amount in Rs\n",
        "rate = 5    # in percent\n",
        "time = 2    # in years\n",
        "\n",
        "si = (principle*rate*time)/100\n",
        "\n",
        "print(si)"
      ],
      "metadata": {
        "id": "s40DlReZsTmY",
        "outputId": "b62e1e6d-a1c8-4eff-f3c2-cb6e6b236ecb",
        "colab": {
          "base_uri": "https://localhost:8080/"
        }
      },
      "execution_count": null,
      "outputs": [
        {
          "output_type": "stream",
          "name": "stdout",
          "text": [
            "1000.0\n"
          ]
        }
      ]
    },
    {
      "cell_type": "markdown",
      "source": [
        "### Q6:- Write a program that will tell the number of dogs and chicken are there when the user will provide the value of total heads and legs.\n",
        "\n",
        "For example:\n",
        "Input:\n",
        "heads -> 4\n",
        "legs -> 12\n",
        "<br>\n",
        "Output:\n",
        "dogs -> 2\n",
        "chicken -> 2\n",
        "\n",
        "\n",
        "\n"
      ],
      "metadata": {
        "id": "LMy0BTUktYKa"
      }
    },
    {
      "cell_type": "code",
      "source": [
        "# Write your code here\n",
        "\n",
        "\n",
        "def countDogs(heads=None,legs=None):\n",
        "  count=0\n",
        "  count = (legs)-2 * (heads)     # 300-2*100 = 100\n",
        "  count = count/2   # 100/2 = 50\n",
        "  return count     # 50\n",
        "\n",
        "\n",
        "heads=100\n",
        "legs=300\n",
        "\n",
        "Dogs = countDogs(heads,legs)    # 50\n",
        "Chicken = heads-Dogs   # 100-50 = 50\n",
        "\n",
        "print('Number of Dogs',Dogs)    # 50\n",
        "print('No of Chicken: ',Chicken)  # 50\n"
      ],
      "metadata": {
        "id": "XSBvJoA4tXaG",
        "outputId": "a0ca70a3-4d06-41fe-88a1-460af18ad596",
        "colab": {
          "base_uri": "https://localhost:8080/"
        }
      },
      "execution_count": null,
      "outputs": [
        {
          "output_type": "stream",
          "name": "stdout",
          "text": [
            "Number of Dogs 50.0\n",
            "No of Chicken:  50.0\n"
          ]
        }
      ]
    },
    {
      "cell_type": "markdown",
      "source": [
        "### Q7:- Write a program to find the sum of squares of first n natural numbers where n will be provided by the user."
      ],
      "metadata": {
        "id": "gJ7C5kZYt4BP"
      }
    },
    {
      "cell_type": "code",
      "source": [
        "# Write your code here\n",
        "\n",
        "sum=0\n",
        "\n",
        "for i in range(1,10):\n",
        "  sum+=i\n",
        "\n",
        "print(sum)\n"
      ],
      "metadata": {
        "id": "_tHsmEHzt2nX",
        "outputId": "ef883541-0646-41e4-c4b6-1d9db5f2cfe0",
        "colab": {
          "base_uri": "https://localhost:8080/"
        }
      },
      "execution_count": null,
      "outputs": [
        {
          "output_type": "stream",
          "name": "stdout",
          "text": [
            "45\n"
          ]
        }
      ]
    },
    {
      "cell_type": "markdown",
      "source": [
        "### Q8:- Given the first 2 terms of an Arithmetic Series.Find the Nth term of the series. Assume all inputs are provided by the user."
      ],
      "metadata": {
        "id": "FHrMM7g-yG1h"
      }
    },
    {
      "cell_type": "code",
      "source": [
        "# Write your code here\n",
        "\n",
        "a = 10    #first term\n",
        "d= 20     # last term\n",
        "n = 5   #search term\n",
        "\n",
        "res =  a+(n-1)*d\n",
        "\n",
        "print(res)\n"
      ],
      "metadata": {
        "id": "go4_kmZmyVSx",
        "outputId": "43fa3eb8-f696-4a8c-ab18-ca874fa194ac",
        "colab": {
          "base_uri": "https://localhost:8080/"
        }
      },
      "execution_count": null,
      "outputs": [
        {
          "output_type": "stream",
          "name": "stdout",
          "text": [
            "90\n"
          ]
        }
      ]
    },
    {
      "cell_type": "markdown",
      "source": [
        "### Q9:- Given 2 fractions, find the sum of those 2 fractions.Take the numerator and denominator values of the fractions from the user."
      ],
      "metadata": {
        "id": "QgyRX_es1oum"
      }
    },
    {
      "cell_type": "code",
      "source": [
        "# Write your code here\n",
        "\n",
        "frac_num1 = 3\n",
        "frac_den1 = 5\n",
        "\n",
        "frac_num2 = 4\n",
        "frac_den2 = 6\n",
        "\n",
        "frac1 = str(frac_num1) + '/' + str(frac_den1)\n",
        "frac2 = str(frac_num2) + '/' + str(frac_den2)\n",
        "\n",
        "frac_sum_num = (frac_num1*frac_den2) + (frac_num2*frac_den1)\n",
        "frac_sum_den = frac_den1*frac_den2\n",
        "\n",
        "frac_sum = str(frac_sum_num) + '/' + str(frac_sum_den)\n",
        "\n",
        "print(frac1,'+',frac2,'=',frac_sum)"
      ],
      "metadata": {
        "id": "X05xqFS1yW16",
        "outputId": "57eae465-2790-4597-ef81-45c9868b012a",
        "colab": {
          "base_uri": "https://localhost:8080/"
        }
      },
      "execution_count": null,
      "outputs": [
        {
          "output_type": "stream",
          "name": "stdout",
          "text": [
            "3/5 + 4/6 = 38/30\n"
          ]
        }
      ]
    },
    {
      "cell_type": "markdown",
      "source": [
        "### Q10:- Given the height, width and breadth of a milk tank, you have to find out how many glasses of milk can be obtained? Assume all the inputs are provided by the user.\n",
        "\n",
        "\n",
        "\n",
        "Input:<br>\n",
        "Dimensions of the milk tank<br>\n",
        "H = 20cm, L = 20cm, B = 20cm\n",
        "<br><br>\n",
        "Dimensions of the glass<br>\n",
        "h = 3cm, r = 1cm"
      ],
      "metadata": {
        "id": "eaql38ln13u7"
      }
    },
    {
      "cell_type": "code",
      "source": [
        "# Write your code here\n",
        "import math\n",
        "\n",
        "# Dimension of Milk Tank\n",
        "height_tank = 20\n",
        "length_tank = 20\n",
        "breadth_tank = 20\n",
        "\n",
        "# Dimension of Glass\n",
        "height_glass = 3\n",
        "radius_glass = 1\n",
        "\n",
        "# Volume of tank\n",
        "\n",
        "vol_tank = height_tank*length_tank*breadth_tank\n",
        "\n",
        "# Volume of glass\n",
        "\n",
        "vol_glass = 3.14*radius_glass*radius_glass*height_glass\n",
        "\n",
        "\n",
        "## count no pf glass = volume_tank/volume_glass\n",
        "\n",
        "print('No of glasses: ',math.floor(vol_tank/vol_glass))"
      ],
      "metadata": {
        "id": "FePZqno74eWv",
        "outputId": "70a17284-f90b-47e6-ac04-b4bc78014d97",
        "colab": {
          "base_uri": "https://localhost:8080/"
        }
      },
      "execution_count": null,
      "outputs": [
        {
          "output_type": "stream",
          "name": "stdout",
          "text": [
            "No of glasses:  849\n"
          ]
        }
      ]
    }
  ]
}